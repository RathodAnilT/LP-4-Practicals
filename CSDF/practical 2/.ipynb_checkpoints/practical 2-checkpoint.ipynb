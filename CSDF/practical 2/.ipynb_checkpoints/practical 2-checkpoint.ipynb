{
 "cells": [
  {
   "cell_type": "code",
   "execution_count": null,
   "id": "973343fc-8a73-4f2b-98ab-07fef075112b",
   "metadata": {},
   "outputs": [],
   "source": [
    "\"\"\"\n",
    "2 Implement a program to generate and verify CAPTCHA image \"\"\""
   ]
  },
  {
   "cell_type": "code",
   "execution_count": null,
   "id": "4c11b57f-5512-4dbd-bb9c-8cfb6519e55b",
   "metadata": {},
   "outputs": [],
   "source": [
    "!pip install pillow"
   ]
  },
  {
   "cell_type": "code",
   "execution_count": 5,
   "id": "a0eeb33c-d46f-480d-bdf3-babeb7cbaf81",
   "metadata": {},
   "outputs": [
    {
     "name": "stdout",
     "output_type": "stream",
     "text": [
      "Generated CAPTCHA Text: sHyKQs\n"
     ]
    },
    {
     "name": "stdin",
     "output_type": "stream",
     "text": [
      "Please enter the CAPTCHA text:  dgkwl\n"
     ]
    },
    {
     "name": "stdout",
     "output_type": "stream",
     "text": [
      "CAPTCHA verification failed. Please try again.\n"
     ]
    }
   ],
   "source": [
    "import random\n",
    "import string\n",
    "from PIL import Image, ImageDraw, ImageFont\n",
    "\n",
    "def generate_captcha_text(length=6):\n",
    "    \"\"\"Generate a random string of fixed length.\"\"\"\n",
    "    characters = string.ascii_letters + string.digits\n",
    "    return ''.join(random.choice(characters) for _ in range(length))\n",
    "\n",
    "def create_captcha_image(captcha_text):\n",
    "    \"\"\"Create a CAPTCHA image from the given text.\"\"\"\n",
    "    width, height = 200, 100\n",
    "    image = Image.new('RGB', (width, height), color=(255, 255, 255))\n",
    "    draw = ImageDraw.Draw(image)\n",
    "    \n",
    "    # Load a font\n",
    "    try:\n",
    "        font = ImageFont.truetype(\"arial.ttf\", 40)\n",
    "    except IOError:\n",
    "        font = ImageFont.load_default()\n",
    "    \n",
    "    # Calculate text bounding box\n",
    "    bbox = draw.textbbox((0, 0), captcha_text, font=font)\n",
    "    text_width = bbox[2] - bbox[0]  # Right - Left\n",
    "    text_height = bbox[3] - bbox[1]  # Bottom - Top\n",
    "    \n",
    "    # Draw the text in the center of the image\n",
    "    position = ((width - text_width) / 2, (height - text_height) / 2)\n",
    "    draw.text(position, captcha_text, fill=(0, 0, 0), font=font)\n",
    "    \n",
    "    # Add some noise (optional)\n",
    "    for _ in range(random.randint(50, 100)):\n",
    "        x = random.randint(0, width)\n",
    "        y = random.randint(0, height)\n",
    "        draw.point((x, y), fill=(0, 0, 0))\n",
    "    \n",
    "    return image\n",
    "\n",
    "def generate_and_verify_captcha():\n",
    "    \"\"\"Generate a CAPTCHA, display it, and verify user input.\"\"\"\n",
    "    # Generate CAPTCHA text\n",
    "    captcha_text = generate_captcha_text()\n",
    "    print(f\"Generated CAPTCHA Text: {captcha_text}\")\n",
    "\n",
    "    # Create and display CAPTCHA image\n",
    "    captcha_image = create_captcha_image(captcha_text)\n",
    "    captcha_image.show()  # This will open the image in the default image viewer\n",
    "    \n",
    "    # Verify user input\n",
    "    user_input = input(\"Please enter the CAPTCHA text: \")\n",
    "    if user_input == captcha_text:\n",
    "        print(\"CAPTCHA verification successful!\")\n",
    "    else:\n",
    "        print(\"CAPTCHA verification failed. Please try again.\")\n",
    "\n",
    "# Call the function to generate and verify CAPTCHA\n",
    "generate_and_verify_captcha()\n"
   ]
  },
  {
   "cell_type": "code",
   "execution_count": null,
   "id": "f42fe3a2-3aaf-44b2-bbc8-b2a694dda234",
   "metadata": {},
   "outputs": [],
   "source": []
  }
 ],
 "metadata": {
  "kernelspec": {
   "display_name": "Python 3 (ipykernel)",
   "language": "python",
   "name": "python3"
  },
  "language_info": {
   "codemirror_mode": {
    "name": "ipython",
    "version": 3
   },
   "file_extension": ".py",
   "mimetype": "text/x-python",
   "name": "python",
   "nbconvert_exporter": "python",
   "pygments_lexer": "ipython3",
   "version": "3.12.1"
  }
 },
 "nbformat": 4,
 "nbformat_minor": 5
}
