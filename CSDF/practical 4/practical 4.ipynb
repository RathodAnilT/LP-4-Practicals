{
 "cells": [
  {
   "cell_type": "code",
   "execution_count": 1,
   "id": "5d158b70-ab40-4f59-96d7-917322500daf",
   "metadata": {},
   "outputs": [
    {
     "data": {
      "text/plain": [
       "' 4\\nWrite a program for Log Capturing and Event Correlation '"
      ]
     },
     "execution_count": 1,
     "metadata": {},
     "output_type": "execute_result"
    }
   ],
   "source": [
    "\"\"\" 4\n",
    "Write a program for Log Capturing and Event Correlation \"\"\""
   ]
  },
  {
   "cell_type": "code",
   "execution_count": 1,
   "id": "edc9aeb7-40f7-4cbc-a02a-7ab2991ceb51",
   "metadata": {},
   "outputs": [
    {
     "name": "stdout",
     "output_type": "stream",
     "text": [
      "Log Captured: 2024-10-04 15:45:37.149595 - WARNING: Sample message for event type: WARNING\n",
      "Log Captured: 2024-10-04 15:45:37.150769 - WARNING: Sample message for event type: WARNING\n",
      "Log Captured: 2024-10-04 15:45:37.150769 - DEBUG: Sample message for event type: DEBUG\n",
      "Log Captured: 2024-10-04 15:45:37.150769 - WARNING: Sample message for event type: WARNING\n",
      "Log Captured: 2024-10-04 15:45:37.150769 - ERROR: Sample message for event type: ERROR\n",
      "Log Captured: 2024-10-04 15:45:37.150769 - WARNING: Sample message for event type: WARNING\n",
      "Log Captured: 2024-10-04 15:45:37.150769 - ERROR: Sample message for event type: ERROR\n",
      "Log Captured: 2024-10-04 15:45:37.150769 - WARNING: Sample message for event type: WARNING\n",
      "Log Captured: 2024-10-04 15:45:37.150769 - DEBUG: Sample message for event type: DEBUG\n",
      "Log Captured: 2024-10-04 15:45:37.150769 - DEBUG: Sample message for event type: DEBUG\n",
      "All Captured Logs:\n",
      "2024-10-04 15:45:37.149595 - WARNING: Sample message for event type: WARNING\n",
      "2024-10-04 15:45:37.150769 - WARNING: Sample message for event type: WARNING\n",
      "2024-10-04 15:45:37.150769 - DEBUG: Sample message for event type: DEBUG\n",
      "2024-10-04 15:45:37.150769 - WARNING: Sample message for event type: WARNING\n",
      "2024-10-04 15:45:37.150769 - ERROR: Sample message for event type: ERROR\n",
      "2024-10-04 15:45:37.150769 - WARNING: Sample message for event type: WARNING\n",
      "2024-10-04 15:45:37.150769 - ERROR: Sample message for event type: ERROR\n",
      "2024-10-04 15:45:37.150769 - WARNING: Sample message for event type: WARNING\n",
      "2024-10-04 15:45:37.150769 - DEBUG: Sample message for event type: DEBUG\n",
      "2024-10-04 15:45:37.150769 - DEBUG: Sample message for event type: DEBUG\n",
      "\n",
      "Correlated ERROR Events in the last 60 seconds:\n",
      "2024-10-04 15:45:37.150769 - ERROR: Sample message for event type: ERROR\n",
      "2024-10-04 15:45:37.150769 - ERROR: Sample message for event type: ERROR\n"
     ]
    }
   ],
   "source": [
    "from datetime import datetime, timedelta\n",
    "import random\n",
    "\n",
    "class LogEntry:\n",
    "    \"\"\"Class to represent a log entry.\"\"\"\n",
    "    \n",
    "    def __init__(self, timestamp, event_type, message):\n",
    "        self.timestamp = timestamp\n",
    "        self.event_type = event_type\n",
    "        self.message = message\n",
    "\n",
    "    def __str__(self):\n",
    "        return f\"{self.timestamp} - {self.event_type}: {self.message}\"\n",
    "\n",
    "class LogManager:\n",
    "    \"\"\"Class to manage log entries and event correlation.\"\"\"\n",
    "    \n",
    "    def __init__(self):\n",
    "        self.logs = []\n",
    "\n",
    "    def capture_log(self, event_type, message):\n",
    "        \"\"\"Capture a new log entry.\"\"\"\n",
    "        timestamp = datetime.now()\n",
    "        log_entry = LogEntry(timestamp, event_type, message)\n",
    "        self.logs.append(log_entry)\n",
    "        print(f\"Log Captured: {log_entry}\")\n",
    "\n",
    "    def correlate_events(self, event_type, time_window=60):\n",
    "        \"\"\"Correlate events based on event type and time window in seconds.\"\"\"\n",
    "        correlation_timeframe = datetime.now() - timedelta(seconds=time_window)\n",
    "        correlated_events = [\n",
    "            log for log in self.logs\n",
    "            if log.event_type == event_type and log.timestamp >= correlation_timeframe\n",
    "        ]\n",
    "        return correlated_events\n",
    "\n",
    "    def display_logs(self):\n",
    "        \"\"\"Display all captured logs.\"\"\"\n",
    "        print(\"All Captured Logs:\")\n",
    "        for log in self.logs:\n",
    "            print(log)\n",
    "\n",
    "def main():\n",
    "    log_manager = LogManager()\n",
    "\n",
    "    # Simulate capturing logs\n",
    "    event_types = ['INFO', 'ERROR', 'WARNING', 'DEBUG']\n",
    "    for _ in range(10):\n",
    "        event_type = random.choice(event_types)\n",
    "        message = f\"Sample message for event type: {event_type}\"\n",
    "        log_manager.capture_log(event_type, message)\n",
    "\n",
    "    # Display all logs\n",
    "    log_manager.display_logs()\n",
    "\n",
    "    # Correlate events of type 'ERROR' within the last 60 seconds\n",
    "    print(\"\\nCorrelated ERROR Events in the last 60 seconds:\")\n",
    "    correlated_events = log_manager.correlate_events('ERROR')\n",
    "    for event in correlated_events:\n",
    "        print(event)\n",
    "\n",
    "if __name__ == \"__main__\":\n",
    "    main()\n"
   ]
  },
  {
   "cell_type": "code",
   "execution_count": null,
   "id": "409f31b9-ea0a-4407-abba-c6c4cd5b383a",
   "metadata": {},
   "outputs": [],
   "source": []
  }
 ],
 "metadata": {
  "kernelspec": {
   "display_name": "Python 3 (ipykernel)",
   "language": "python",
   "name": "python3"
  },
  "language_info": {
   "codemirror_mode": {
    "name": "ipython",
    "version": 3
   },
   "file_extension": ".py",
   "mimetype": "text/x-python",
   "name": "python",
   "nbconvert_exporter": "python",
   "pygments_lexer": "ipython3",
   "version": "3.12.1"
  }
 },
 "nbformat": 4,
 "nbformat_minor": 5
}
