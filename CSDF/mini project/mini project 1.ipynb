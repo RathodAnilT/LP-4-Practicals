{
 "cells": [
  {
   "cell_type": "code",
   "execution_count": 1,
   "id": "06c0a93c-7a06-4e6f-ba74-f5a592104b87",
   "metadata": {},
   "outputs": [
    {
     "data": {
      "text/plain": [
       "' 1 Mini–project- Design and develop a tool for digital forensic of images '"
      ]
     },
     "execution_count": 1,
     "metadata": {},
     "output_type": "execute_result"
    }
   ],
   "source": [
    "\"\"\" 1 Mini–project- Design and develop a tool for digital forensic of images \"\"\""
   ]
  },
  {
   "cell_type": "code",
   "execution_count": 2,
   "id": "f86a27ae-4ab7-43c9-92de-5c6260a51662",
   "metadata": {},
   "outputs": [
    {
     "name": "stdout",
     "output_type": "stream",
     "text": [
      "Requirement already satisfied: ImageHash in c:\\users\\anil rathod\\appdata\\local\\programs\\python\\python312\\lib\\site-packages (4.3.1)\n",
      "Requirement already satisfied: PyWavelets in c:\\users\\anil rathod\\appdata\\local\\programs\\python\\python312\\lib\\site-packages (from ImageHash) (1.7.0)\n",
      "Requirement already satisfied: numpy in c:\\users\\anil rathod\\appdata\\local\\programs\\python\\python312\\lib\\site-packages (from ImageHash) (1.26.3)\n",
      "Requirement already satisfied: pillow in c:\\users\\anil rathod\\appdata\\local\\programs\\python\\python312\\lib\\site-packages (from ImageHash) (10.3.0)\n",
      "Requirement already satisfied: scipy in c:\\users\\anil rathod\\appdata\\local\\programs\\python\\python312\\lib\\site-packages (from ImageHash) (1.13.0)\n"
     ]
    }
   ],
   "source": [
    "!pip install ImageHash\n"
   ]
  },
  {
   "cell_type": "code",
   "execution_count": 5,
   "id": "05b013d5-cd60-4f35-8159-1b4de00e1156",
   "metadata": {
    "scrolled": true
   },
   "outputs": [
    {
     "name": "stdout",
     "output_type": "stream",
     "text": [
      "Analyzing image: C:\\Users\\Anil Rathod\\Desktop\\LP 4\\CSDF\\mini project\\img1.jpeg\n",
      "Attempting to load EXIF data from C:\\Users\\Anil Rathod\\Desktop\\LP 4\\CSDF\\mini project\\img1.jpeg...\n",
      "EXIF Metadata:\n",
      "Error extracting metadata: 'NoneType' object is not iterable\n",
      "Attempting to detect hidden messages in C:\\Users\\Anil Rathod\\Desktop\\LP 4\\CSDF\\mini project\\img1.jpeg...\n",
      "Error detecting steganography: Impossible to detect message.\n"
     ]
    }
   ],
   "source": [
    "from PIL import Image\n",
    "import piexif\n",
    "import os\n",
    "from stegano import lsb\n",
    "\n",
    "def extract_metadata(image_path):\n",
    "    \"\"\"Extracts EXIF metadata from an image.\"\"\"\n",
    "    print(f\"Attempting to load EXIF data from {image_path}...\")\n",
    "    try:\n",
    "        # Load EXIF data from the image\n",
    "        exif_data = piexif.load(image_path)\n",
    "        if exif_data:\n",
    "            print(\"EXIF Metadata:\")\n",
    "            for ifd in exif_data:\n",
    "                for tag in exif_data[ifd]:\n",
    "                    tag_name = piexif.TAGS[ifd][tag][\"name\"]\n",
    "                    value = exif_data[ifd][tag]\n",
    "                    print(f\"{tag_name}: {value}\")\n",
    "        else:\n",
    "            print(\"No EXIF data found.\")\n",
    "    except Exception as e:\n",
    "        print(f\"Error extracting metadata: {e}\")\n",
    "\n",
    "def detect_steganography(image_path):\n",
    "    \"\"\"Detects hidden messages in an image using LSB steganography.\"\"\"\n",
    "    print(f\"Attempting to detect hidden messages in {image_path}...\")\n",
    "    try:\n",
    "        secret = lsb.reveal(image_path)\n",
    "        if secret:\n",
    "            print(\"Hidden message found:\")\n",
    "            print(secret)\n",
    "        else:\n",
    "            print(\"No hidden message detected.\")\n",
    "    except Exception as e:\n",
    "        print(f\"Error detecting steganography: {e}\")\n",
    "\n",
    "def analyze_image(image_path):\n",
    "    \"\"\"Analyzes the given image for metadata and hidden data.\"\"\"\n",
    "    if not os.path.isfile(image_path):\n",
    "        print(\"Invalid image path.\")\n",
    "        return\n",
    "    \n",
    "    print(f\"Analyzing image: {image_path}\")\n",
    "    extract_metadata(image_path)\n",
    "    detect_steganography(image_path)\n",
    "\n",
    "if __name__ == \"__main__\":\n",
    "    # Update this path to the image you want to analyze\n",
    "    image_path = r\"C:\\Users\\Anil Rathod\\Desktop\\LP 4\\CSDF\\mini project\\img1.jpeg\"  # Use raw string for Windows paths\n",
    "    analyze_image(image_path)\n"
   ]
  },
  {
   "cell_type": "code",
   "execution_count": null,
   "id": "721fd4f0-0897-4455-9900-ed210d8789d7",
   "metadata": {},
   "outputs": [],
   "source": []
  }
 ],
 "metadata": {
  "kernelspec": {
   "display_name": "Python 3 (ipykernel)",
   "language": "python",
   "name": "python3"
  },
  "language_info": {
   "codemirror_mode": {
    "name": "ipython",
    "version": 3
   },
   "file_extension": ".py",
   "mimetype": "text/x-python",
   "name": "python",
   "nbconvert_exporter": "python",
   "pygments_lexer": "ipython3",
   "version": "3.12.1"
  }
 },
 "nbformat": 4,
 "nbformat_minor": 5
}
