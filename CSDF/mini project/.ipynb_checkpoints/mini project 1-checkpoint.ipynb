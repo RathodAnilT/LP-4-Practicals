{
 "cells": [
  {
   "cell_type": "code",
   "execution_count": 2,
   "id": "06c0a93c-7a06-4e6f-ba74-f5a592104b87",
   "metadata": {},
   "outputs": [
    {
     "data": {
      "text/plain": [
       "' 1 Mini–project- Design and develop a tool for digital forensic of images '"
      ]
     },
     "execution_count": 2,
     "metadata": {},
     "output_type": "execute_result"
    }
   ],
   "source": [
    "\"\"\" 1 Mini–project- Design and develop a tool for digital forensic of images \"\"\""
   ]
  },
  {
   "cell_type": "code",
   "execution_count": 7,
   "id": "f86a27ae-4ab7-43c9-92de-5c6260a51662",
   "metadata": {},
   "outputs": [
    {
     "name": "stdout",
     "output_type": "stream",
     "text": [
      "Collecting ImageHash\n",
      "  Downloading ImageHash-4.3.1-py2.py3-none-any.whl.metadata (8.0 kB)\n",
      "Collecting PyWavelets (from ImageHash)\n",
      "  Downloading pywavelets-1.7.0-cp312-cp312-win_amd64.whl.metadata (9.0 kB)\n",
      "Requirement already satisfied: numpy in c:\\users\\anil rathod\\appdata\\local\\programs\\python\\python312\\lib\\site-packages (from ImageHash) (1.26.3)\n",
      "Requirement already satisfied: pillow in c:\\users\\anil rathod\\appdata\\local\\programs\\python\\python312\\lib\\site-packages (from ImageHash) (10.3.0)\n",
      "Requirement already satisfied: scipy in c:\\users\\anil rathod\\appdata\\local\\programs\\python\\python312\\lib\\site-packages (from ImageHash) (1.13.0)\n",
      "Downloading ImageHash-4.3.1-py2.py3-none-any.whl (296 kB)\n",
      "Downloading pywavelets-1.7.0-cp312-cp312-win_amd64.whl (4.2 MB)\n",
      "   ---------------------------------------- 0.0/4.2 MB ? eta -:--:--\n",
      "   -- ------------------------------------- 0.3/4.2 MB ? eta -:--:--\n",
      "   --------- ------------------------------ 1.0/4.2 MB 3.1 MB/s eta 0:00:02\n",
      "   -------------- ------------------------- 1.6/4.2 MB 3.4 MB/s eta 0:00:01\n",
      "   ---------------------- ----------------- 2.4/4.2 MB 3.0 MB/s eta 0:00:01\n",
      "   ------------------------ --------------- 2.6/4.2 MB 2.8 MB/s eta 0:00:01\n",
      "   -------------------------------- ------- 3.4/4.2 MB 2.8 MB/s eta 0:00:01\n",
      "   ------------------------------------- -- 3.9/4.2 MB 2.8 MB/s eta 0:00:01\n",
      "   ---------------------------------------- 4.2/4.2 MB 2.8 MB/s eta 0:00:00\n",
      "Installing collected packages: PyWavelets, ImageHash\n",
      "Successfully installed ImageHash-4.3.1 PyWavelets-1.7.0\n"
     ]
    }
   ],
   "source": [
    "!pip install ImageHash\n"
   ]
  },
  {
   "cell_type": "code",
   "execution_count": 8,
   "id": "05b013d5-cd60-4f35-8159-1b4de00e1156",
   "metadata": {
    "scrolled": true
   },
   "outputs": [
    {
     "name": "stdout",
     "output_type": "stream",
     "text": [
      "MD5 Hash: c559e5aced68f526abb2d64cdf6589c2\n",
      "No EXIF data found.\n",
      "\n",
      "Steganography Detected: 0000011000110001100010001001100000001111011100000000100101010100101011010100101000101000101010100111...\n",
      "\n",
      "Perceptual Hash: 011fe6a65bd91ccb\n"
     ]
    }
   ],
   "source": [
    "from PIL import Image\n",
    "import hashlib\n",
    "from imagehash import dhash  # Ensure this import works after installation\n",
    "import os\n",
    "\n",
    "def compute_hash(filepath):\n",
    "    \"\"\"Compute MD5 hash of an image file.\"\"\"\n",
    "    with open(filepath, 'rb') as f:\n",
    "        return hashlib.md5(f.read()).hexdigest()\n",
    "\n",
    "def extract_exif(filepath):\n",
    "    \"\"\"Extract EXIF data from an image file.\"\"\"\n",
    "    with Image.open(filepath) as img:\n",
    "        return img._getexif()\n",
    "\n",
    "def detect_steganography(filepath):\n",
    "    \"\"\"Detects steganography using LSB analysis.\"\"\"\n",
    "    with Image.open(filepath) as img:\n",
    "        width, height = img.size\n",
    "        pixel_data = list(img.getdata())\n",
    "        hidden_data = ''\n",
    "        for pixel in pixel_data:\n",
    "            for color_channel in pixel:\n",
    "                hidden_data += str(color_channel & 1)\n",
    "        return hidden_data\n",
    "\n",
    "def perceptual_hash(filepath):\n",
    "    \"\"\"Generate perceptual hash of an image.\"\"\"\n",
    "    with Image.open(filepath) as img:\n",
    "        hash_value = dhash(img)\n",
    "        return str(hash_value)\n",
    "\n",
    "def main():\n",
    "    filepath = r'C:\\Users\\Anil Rathod\\Desktop\\LP 4\\CSDF\\mini project\\img1.jpeg'  # Use raw string here\n",
    "    # Compute MD5 Hash\n",
    "    md5_hash = compute_hash(filepath)\n",
    "    print(f'MD5 Hash: {md5_hash}')\n",
    "    \n",
    "    # Extract EXIF Data\n",
    "    exif_data = extract_exif(filepath)\n",
    "    if exif_data is not None:\n",
    "        print('\\nEXIF Data:')\n",
    "        for tag, value in exif_data.items():\n",
    "            print(f'Tag: {tag}, Value: {value}')\n",
    "    else:\n",
    "        print('No EXIF data found.')\n",
    "    \n",
    "    # Detect Steganography\n",
    "    hidden_data = detect_steganography(filepath)\n",
    "    if hidden_data:\n",
    "        print(f'\\nSteganography Detected: {hidden_data[:100]}...')  # Truncate for brevity\n",
    "    else:\n",
    "        print('No steganography detected.')\n",
    "    \n",
    "    # Generate Perceptual Hash\n",
    "    phash = perceptual_hash(filepath)\n",
    "    print(f'\\nPerceptual Hash: {phash}')\n",
    "\n",
    "if __name__ == '__main__':\n",
    "    main()\n"
   ]
  },
  {
   "cell_type": "code",
   "execution_count": null,
   "id": "721fd4f0-0897-4455-9900-ed210d8789d7",
   "metadata": {},
   "outputs": [],
   "source": []
  }
 ],
 "metadata": {
  "kernelspec": {
   "display_name": "Python 3 (ipykernel)",
   "language": "python",
   "name": "python3"
  },
  "language_info": {
   "codemirror_mode": {
    "name": "ipython",
    "version": 3
   },
   "file_extension": ".py",
   "mimetype": "text/x-python",
   "name": "python",
   "nbconvert_exporter": "python",
   "pygments_lexer": "ipython3",
   "version": "3.12.1"
  }
 },
 "nbformat": 4,
 "nbformat_minor": 5
}
