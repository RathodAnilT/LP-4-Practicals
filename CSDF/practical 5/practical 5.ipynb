{
 "cells": [
  {
   "cell_type": "code",
   "execution_count": null,
   "id": "0812d1db-5b45-4710-953c-7ed7f58463f1",
   "metadata": {},
   "outputs": [],
   "source": [
    "\"\"\" 5\n",
    "Study of Honeypot \"\"\""
   ]
  },
  {
   "cell_type": "code",
   "execution_count": null,
   "id": "97c991ae-0df2-4792-89eb-b6a5b00538b4",
   "metadata": {},
   "outputs": [
    {
     "name": "stdout",
     "output_type": "stream",
     "text": [
      "Honeypot listening on port 8080...\n"
     ]
    }
   ],
   "source": [
    "import socket\n",
    "\n",
    "def simple_honeypot(port=8080):\n",
    "    # Create a TCP/IP socket\n",
    "    honeypot_socket = socket.socket(socket.AF_INET, socket.SOCK_STREAM)\n",
    "    \n",
    "    # Bind the socket to the port\n",
    "    honeypot_socket.bind(('0.0.0.0', port))\n",
    "    honeypot_socket.listen(5)  # Listen for incoming connections\n",
    "    \n",
    "    print(f\"Honeypot listening on port {port}...\")\n",
    "    \n",
    "    while True:\n",
    "        # Wait for a connection\n",
    "        client_socket, client_address = honeypot_socket.accept()\n",
    "        print(f\"Connection from {client_address} has been established.\")\n",
    "        \n",
    "        # Optionally, receive data from the attacker\n",
    "        data = client_socket.recv(1024)  # Buffer size of 1024 bytes\n",
    "        if data:\n",
    "            print(f\"Received data: {data.decode('utf-8', 'ignore')}\")\n",
    "        \n",
    "        # Close the connection\n",
    "        client_socket.close()\n",
    "\n",
    "if __name__ == \"__main__\":\n",
    "    simple_honeypot(8080)\n"
   ]
  },
  {
   "cell_type": "code",
   "execution_count": null,
   "id": "eb823db3-9790-4ec1-8809-d580fbc5495c",
   "metadata": {},
   "outputs": [],
   "source": []
  }
 ],
 "metadata": {
  "kernelspec": {
   "display_name": "Python 3 (ipykernel)",
   "language": "python",
   "name": "python3"
  },
  "language_info": {
   "codemirror_mode": {
    "name": "ipython",
    "version": 3
   },
   "file_extension": ".py",
   "mimetype": "text/x-python",
   "name": "python",
   "nbconvert_exporter": "python",
   "pygments_lexer": "ipython3",
   "version": "3.12.1"
  }
 },
 "nbformat": 4,
 "nbformat_minor": 5
}
