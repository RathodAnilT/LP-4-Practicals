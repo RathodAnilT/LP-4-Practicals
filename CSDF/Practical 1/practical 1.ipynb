{
 "cells": [
  {
   "cell_type": "code",
   "execution_count": null,
   "id": "2b8ae055-f9ed-411f-a387-fdcbb897053f",
   "metadata": {},
   "outputs": [],
   "source": [
    "\"\"\" 1\n",
    "Write a program for Tracking Emails and Investigating Email Crimes. i.e. Write a program to analyze e–mail header\n",
    "\"\"\"\n"
   ]
  },
  {
   "cell_type": "code",
   "execution_count": 1,
   "id": "bdc31ecc-6d5b-4162-b86a-7416682d9805",
   "metadata": {},
   "outputs": [
    {
     "name": "stdout",
     "output_type": "stream",
     "text": [
      "Email Information:\n",
      "-----------------\n",
      "From: sender@example.com\n",
      "To: recipient@example.com\n",
      "Subject: Test Email\n",
      "Date: Wed, 13 Oct 2021 15:35:00 +0000\n",
      "Return-Path: bounce@example.com\n",
      "Message-ID: <1234567890@example.com>\n",
      "Received: ['from mail.example.com (mail.example.com. [192.0.2.1])        by mx.google.com with ESMTPS id abcdef12345        for <recipient@example.com>; Wed, 13 Oct 2021 15:35:00 +0000 (UTC)']\n"
     ]
    }
   ],
   "source": [
    "from email import policy\n",
    "from email.parser import BytesParser\n",
    "\n",
    "def extract_email_headers(raw_email):\n",
    "    # Parse the raw email headers\n",
    "    headers = BytesParser(policy=policy.default).parsebytes(raw_email.encode('utf-8'))\n",
    "\n",
    "    # Extract relevant information\n",
    "    email_info = {\n",
    "        \"From\": headers.get('From'),\n",
    "        \"To\": headers.get('To'),\n",
    "        \"Subject\": headers.get('Subject'),\n",
    "        \"Date\": headers.get('Date'),\n",
    "        \"Return-Path\": headers.get('Return-Path'),\n",
    "        \"Message-ID\": headers.get('Message-ID'),\n",
    "        \"Received\": headers.get_all('Received', [])\n",
    "    }\n",
    "    return email_info\n",
    "\n",
    "def display_email_info(email_info):\n",
    "    print(\"Email Information:\")\n",
    "    print(\"-----------------\")\n",
    "    for key, value in email_info.items():\n",
    "        print(f\"{key}: {value}\")\n",
    "\n",
    "# Example raw email header (replace this with actual header)\n",
    "raw_email_header = \"\"\"From: sender@example.com\n",
    "To: recipient@example.com\n",
    "Subject: Test Email\n",
    "Date: Wed, 13 Oct 2021 15:35:00 +0000\n",
    "Return-Path: bounce@example.com\n",
    "Message-ID: <1234567890@example.com>\n",
    "Received: from mail.example.com (mail.example.com. [192.0.2.1])\n",
    "        by mx.google.com with ESMTPS id abcdef12345\n",
    "        for <recipient@example.com>; Wed, 13 Oct 2021 15:35:00 +0000 (UTC)\"\"\"\n",
    "\n",
    "# Extract and display email headers\n",
    "email_info = extract_email_headers(raw_email_header)\n",
    "display_email_info(email_info)\n"
   ]
  },
  {
   "cell_type": "code",
   "execution_count": null,
   "id": "6dde4e8c-2d0f-4a2b-a18f-bf18f845f834",
   "metadata": {},
   "outputs": [],
   "source": []
  }
 ],
 "metadata": {
  "kernelspec": {
   "display_name": "Python 3 (ipykernel)",
   "language": "python",
   "name": "python3"
  },
  "language_info": {
   "codemirror_mode": {
    "name": "ipython",
    "version": 3
   },
   "file_extension": ".py",
   "mimetype": "text/x-python",
   "name": "python",
   "nbconvert_exporter": "python",
   "pygments_lexer": "ipython3",
   "version": "3.12.1"
  }
 },
 "nbformat": 4,
 "nbformat_minor": 5
}
