{
 "cells": [
  {
   "cell_type": "code",
   "execution_count": 8,
   "id": "f0119e53-b735-4ddd-be14-23465df4eaec",
   "metadata": {},
   "outputs": [
    {
     "name": "stdout",
     "output_type": "stream",
     "text": [
      "Generated CAPTCHA text: GGSWHF\n"
     ]
    },
    {
     "name": "stdin",
     "output_type": "stream",
     "text": [
      "Enter the text from the CAPTCHA image:  GGWHf\n"
     ]
    },
    {
     "name": "stdout",
     "output_type": "stream",
     "text": [
      "CAPTCHA verification failed. Please try again.\n"
     ]
    }
   ],
   "source": [
    "from captcha.image import ImageCaptcha\n",
    "import random\n",
    "import string\n",
    "\n",
    "def generate_captcha():\n",
    "    \"\"\"Generates a random CAPTCHA text and image.\"\"\"\n",
    "    # Define characters to be used in the CAPTCHA\n",
    "    characters = string.ascii_uppercase + string.digits\n",
    "    # Generate a random 6-character CAPTCHA text\n",
    "    captcha_text = ''.join(random.choice(characters) for i in range(6))\n",
    "    \n",
    "    print(f\"Generated CAPTCHA text: {captcha_text}\")  # Display the generated CAPTCHA text\n",
    "    \n",
    "    # Create an ImageCaptcha object\n",
    "    image = ImageCaptcha(width=280, height=90)\n",
    "    # Generate the CAPTCHA image\n",
    "    data = image.generate(captcha_text)\n",
    "    # Save the image to a file\n",
    "    image.write(captcha_text, 'CAPTCHA.png')\n",
    "    return captcha_text\n",
    "\n",
    "def verify_captcha(captcha_text):\n",
    "    \"\"\"Prompts the user to enter the CAPTCHA and verifies it.\"\"\"\n",
    "    user_input = input(\"Enter the text from the CAPTCHA image: \")\n",
    "    if user_input.upper() == captcha_text:\n",
    "        print(\"CAPTCHA verification successful!\")\n",
    "        return True\n",
    "    else:\n",
    "        print(\"CAPTCHA verification failed. Please try again.\")\n",
    "        return False\n",
    "\n",
    "# Main program execution\n",
    "captcha_text = generate_captcha()  # Generate and save the CAPTCHA image\n",
    "is_verified = verify_captcha(captcha_text)  # Verify the user's input\n"
   ]
  },
  {
   "cell_type": "code",
   "execution_count": null,
   "id": "bd1e4ae7-dc75-452c-9970-dea70554c219",
   "metadata": {},
   "outputs": [],
   "source": []
  }
 ],
 "metadata": {
  "kernelspec": {
   "display_name": "Python 3 (ipykernel)",
   "language": "python",
   "name": "python3"
  },
  "language_info": {
   "codemirror_mode": {
    "name": "ipython",
    "version": 3
   },
   "file_extension": ".py",
   "mimetype": "text/x-python",
   "name": "python",
   "nbconvert_exporter": "python",
   "pygments_lexer": "ipython3",
   "version": "3.12.1"
  }
 },
 "nbformat": 4,
 "nbformat_minor": 5
}
