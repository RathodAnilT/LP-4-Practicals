{
 "cells": [
  {
   "cell_type": "code",
   "execution_count": 2,
   "id": "a1f8afdb-7a14-41d3-934c-e0f8250a40c4",
   "metadata": {},
   "outputs": [
    {
     "name": "stdout",
     "output_type": "stream",
     "text": [
      "Email Header Program\n"
     ]
    },
    {
     "name": "stdin",
     "output_type": "stream",
     "text": [
      "Enter path for email header file\n",
      " C:\\Users\\Anil Rathod\\Desktop\\LP 4\\STQA\\3\\email_header.txt\n"
     ]
    },
    {
     "name": "stdout",
     "output_type": "stream",
     "text": [
      "MIME-Version: 1.0\n",
      "Date: Mon, 01 Jan 2024 12:00:00 +0000\n",
      "Subject: Test Email\n",
      "Delivered-To: example@example.com\n",
      "From: sender@example.com\n",
      "To: example@example.com\n"
     ]
    }
   ],
   "source": [
    "import re\n",
    "\n",
    "def matchre(data, *args):\n",
    "    for regstr in args:\n",
    "        matchObj = re.search(regstr + '.*', data, re.M | re.I)\n",
    "        if matchObj:\n",
    "            print(matchObj.group(0).strip())\n",
    "        else:\n",
    "            print(f\"No {regstr} found\")\n",
    "\n",
    "print(\"Email Header Program\")\n",
    "filename = input(\"Enter path for email header file\\n\")\n",
    "with open(filename, \"r\") as fo:  # Use 'with' to handle file context\n",
    "    data = fo.read()\n",
    "\n",
    "matchre(data, \"MIME-version\", \"Date:\", \"Subject:\", \"Delivered-to:\", \"From:\", \"To:\")\n"
   ]
  },
  {
   "cell_type": "code",
   "execution_count": null,
   "id": "435e17e7-a80c-4971-9915-e364b49e5391",
   "metadata": {},
   "outputs": [],
   "source": []
  }
 ],
 "metadata": {
  "kernelspec": {
   "display_name": "Python 3 (ipykernel)",
   "language": "python",
   "name": "python3"
  },
  "language_info": {
   "codemirror_mode": {
    "name": "ipython",
    "version": 3
   },
   "file_extension": ".py",
   "mimetype": "text/x-python",
   "name": "python",
   "nbconvert_exporter": "python",
   "pygments_lexer": "ipython3",
   "version": "3.12.1"
  }
 },
 "nbformat": 4,
 "nbformat_minor": 5
}
